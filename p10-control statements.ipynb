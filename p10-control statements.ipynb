{
 "cells": [
  {
   "cell_type": "code",
   "execution_count": null,
   "id": "7d6bec33",
   "metadata": {},
   "outputs": [
    {
     "ename": "SyntaxError",
     "evalue": "incomplete input (1950409004.py, line 6)",
     "output_type": "error",
     "traceback": [
      "  \u001b[36mCell\u001b[39m\u001b[36m \u001b[39m\u001b[32mIn[1]\u001b[39m\u001b[32m, line 6\u001b[39m\n\u001b[31m    \u001b[39m\u001b[31mif fact==0:\u001b[39m\n               ^\n\u001b[31mSyntaxError\u001b[39m\u001b[31m:\u001b[39m incomplete input\n"
     ]
    }
   ],
   "source": [
    "fact=0\n",
    "n=int(input(\"enter the number\"))\n",
    "for i in range (2,(n//2)+1):\n",
    "    if n%i==0:\n",
    "        fact+=1\n",
    "if fact==0:\n",
    "    \n"
   ]
  },
  {
   "cell_type": "code",
   "execution_count": null,
   "id": "ea85a51e",
   "metadata": {},
   "outputs": [],
   "source": [
    "1=['smartphone','laptop','airpods','shoe']\n",
    "for i in 1:\n",
    "    if i =='laptop':\n",
    "        break\n",
    "    print(i.center(20,''))\n",
    "else:\n",
    "    print('End of the items')\n",
    "    \n",
    "bullets=10\n",
    "while bullets>0:\n",
    "    if bullets ==5:\n",
    "        print('dead')\n",
    "    break\n",
    "    print(f\"{bullets} are left\")    \n",
    "        "
   ]
  }
 ],
 "metadata": {
  "kernelspec": {
   "display_name": "venv",
   "language": "python",
   "name": "python3"
  },
  "language_info": {
   "codemirror_mode": {
    "name": "ipython",
    "version": 3
   },
   "file_extension": ".py",
   "mimetype": "text/x-python",
   "name": "python",
   "nbconvert_exporter": "python",
   "pygments_lexer": "ipython3",
   "version": "3.12.7"
  }
 },
 "nbformat": 4,
 "nbformat_minor": 5
}
