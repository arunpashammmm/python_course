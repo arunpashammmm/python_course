{
 "cells": [
  {
   "cell_type": "code",
   "execution_count": 4,
   "id": "c13442b8",
   "metadata": {},
   "outputs": [
    {
     "name": "stdout",
     "output_type": "stream",
     "text": [
      "7 is greater than 6\n"
     ]
    }
   ],
   "source": [
    "a=int(input(\"enter a\"))\n",
    "b=int(input(\"enter b\"))\n",
    "if a>b :\n",
    "    print(f\"{a} is greater than {b}\")\n",
    "elif a==b:\n",
    "    print(f\"{a} is equal to {b}\")\n",
    "else:\n",
    "    print(f\"{b} is greater than {a}\")\n",
    "\n",
    "\n"
   ]
  },
  {
   "cell_type": "code",
   "execution_count": 1,
   "id": "1ef372fa",
   "metadata": {},
   "outputs": [
    {
     "name": "stdout",
     "output_type": "stream",
     "text": [
      "a is not divisible by 2or 3\n"
     ]
    }
   ],
   "source": [
    "a=int(input(\"enter a\"))\n",
    "if a%2==0 & a%3==0:\n",
    "    print(f\"a is divisible by 2&3\")\n",
    "elif a%2==0:\n",
    "    print(\"a is disible by 2\")\n",
    "elif a%3==0:\n",
    "    print(\"a is divisible by 3\")\n",
    "    \n",
    "else:\n",
    "    print(\"a is not divisible by 2or 3\")"
   ]
  },
  {
   "cell_type": "code",
   "execution_count": 3,
   "id": "1d6ac712",
   "metadata": {},
   "outputs": [
    {
     "name": "stdout",
     "output_type": "stream",
     "text": [
      "1-Arun \n",
      "2-Hemanth\n",
      "3-Gopal\n",
      "4-Aryan\n"
     ]
    }
   ],
   "source": [
    "name={1:'arun ',2:'hemanth',3:'gopal',4:'aryan'}\n",
    "for i in name.keys():\n",
    "    print(f\"{i}-{name[i].capitalize()}\")"
   ]
  }
 ],
 "metadata": {
  "kernelspec": {
   "display_name": "venv",
   "language": "python",
   "name": "python3"
  },
  "language_info": {
   "codemirror_mode": {
    "name": "ipython",
    "version": 3
   },
   "file_extension": ".py",
   "mimetype": "text/x-python",
   "name": "python",
   "nbconvert_exporter": "python",
   "pygments_lexer": "ipython3",
   "version": "3.12.7"
  }
 },
 "nbformat": 4,
 "nbformat_minor": 5
}
