{
 "cells": [
  {
   "cell_type": "code",
   "execution_count": null,
   "id": "cd32e0f8",
   "metadata": {},
   "outputs": [
    {
     "name": "stdout",
     "output_type": "stream",
     "text": [
      "incorrect pin\n"
     ]
    }
   ],
   "source": [
    "email,pwd='arun@gmail.com','arun123'\n",
    "attempts=0\n",
    "max_attempts=5\n",
    "while attempts<max_attempts-1:\n",
    "    email_a=input('enter email')\n",
    "    pwd_a=input('enter password')\n",
    "    if email_a==email and pwd_a==pwd:\n",
    "        print('log in successful')\n",
    "        break\n",
    "    else:\n",
    "        print('incorrect pin')\n",
    "        attempts+=1\n",
    "else:\n",
    "        print('max attempts reached,try again later')\n",
    "        "
   ]
  },
  {
   "cell_type": "code",
   "execution_count": 5,
   "id": "ad485cae",
   "metadata": {},
   "outputs": [
    {
     "name": "stdout",
     "output_type": "stream",
     "text": [
      "17*1=17\n",
      "17*2=34\n",
      "17*3=51\n",
      "17*4=68\n",
      "17*5=85\n",
      "17*6=102\n",
      "17*7=119\n",
      "17*8=136\n",
      "17*9=153\n",
      "17*10=170\n",
      "17*11=187\n",
      "17*12=204\n",
      "17*13=221\n",
      "17*14=238\n",
      "17*15=255\n",
      "17*16=272\n",
      "17*17=289\n",
      "17*18=306\n",
      "17*19=323\n",
      "17*20=340\n",
      "19* 1 = 19\n",
      "19* 2 = 38\n",
      "19* 3 = 57\n",
      "19* 4 = 76\n",
      "19* 5 = 95\n",
      "19* 6 = 114\n",
      "19* 7 = 133\n",
      "19* 8 = 152\n",
      "19* 9 = 171\n",
      "19* 10 = 190\n",
      "19* 11 = 209\n",
      "19* 12 = 228\n",
      "19* 13 = 247\n",
      "19* 14 = 266\n",
      "19* 15 = 285\n",
      "19* 16 = 304\n",
      "19* 17 = 323\n",
      "19* 18 = 342\n",
      "19* 19 = 361\n",
      "19* 20 = 380\n"
     ]
    }
   ],
   "source": [
    "for i in range(1,21):\n",
    "    print (f\"17*{i}={17*i}\")\n",
    "for i in range(1,21):\n",
    "    print (\"19*\",i,\"=\",19*i)"
   ]
  },
  {
   "cell_type": "code",
   "execution_count": null,
   "id": "f4f32a1f",
   "metadata": {},
   "outputs": [],
   "source": []
  }
 ],
 "metadata": {
  "kernelspec": {
   "display_name": "venv",
   "language": "python",
   "name": "python3"
  },
  "language_info": {
   "codemirror_mode": {
    "name": "ipython",
    "version": 3
   },
   "file_extension": ".py",
   "mimetype": "text/x-python",
   "name": "python",
   "nbconvert_exporter": "python",
   "pygments_lexer": "ipython3",
   "version": "3.12.7"
  }
 },
 "nbformat": 4,
 "nbformat_minor": 5
}
